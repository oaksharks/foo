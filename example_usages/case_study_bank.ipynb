{
 "cells": [
  {
   "cell_type": "markdown",
   "id": "a9646130-182c-4f05-a19a-f20d47ef5518",
   "metadata": {},
   "source": [
    "# YLearn Case Study - Bank Customer Transaction Amount"
   ]
  },
  {
   "cell_type": "markdown",
   "id": "57d62410-f3f9-440f-a64a-d0f9a5f0d90e",
   "metadata": {},
   "source": [
    "## Content\n",
    "\n",
    "1. Summary\n",
    "1. Dataset\n",
    "1. Causal Effect with Defined Treatment\n",
    "    1. Statistics of Card_Category\n",
    "    1. Learn Why with `treatment='Card_Category'`\n",
    "    1. Estimate causal effect\n",
    "    1. Counterfactual inference\n",
    "    1. Policy interpreter\n",
    "    1. Effect comparison\n",
    "    1. Conclusion\n",
    "1. Causal Effect with Discovery\n",
    "    1. Learn Why with `treatment=None`\n",
    "    1. Estimate causal effect on train_data\n",
    "    1. Estimate causal effect on test_data\n",
    "    1. Conclusion"
   ]
  },
  {
   "cell_type": "markdown",
   "id": "e03de443-00f7-4ccd-9894-32cbe88cf759",
   "metadata": {},
   "source": [
    "## 1. Summary\n",
    "\n",
    "This notebook utilizes a typical bank customer dataset to demonstrate the usage of all-in-one API `Why` of YLearn. `Why` covers the full processing pipeline of causal learning, including causal discovery, causal effect identification, causal effect estimation, counterfactual inference, and policy learning. \n",
    "\n",
    "One should firstly create an instance of `Why` which needs to be trained by calling its method `fit()`. Both customized setting (with a defined treatment) and default setting (to discover treatments by the algorithm itself) are introduced. The following utilities, such as `plot_causal_graph()`, `causal_effect()` and `whatif()` are performed to analyze various counterfactual scenarios. Another key method `policy_interpreter()` provides a customized solution to optimize the output. \n"
   ]
  },
  {
   "cell_type": "markdown",
   "id": "e57998b2-6049-49df-ad30-87440f69afcf",
   "metadata": {},
   "source": [
    "## 2. Dataset\n",
    "\n",
    "The dataset used in this notebook is a subset of Kaggle [BankChurners](https://www.kaggle.com/datasets/syviaw/bankchurners) dataset. It’s intended to predict churning customers. However, we use it to analyze the causes of total transaction amount and provide customized strategies to maximize the transaction amount. The dataset contains the information of around 10,000 customers with nearly 20 continuous and categorical variables that represent user's characteristics. We manually select 10 variables to analyze their causal relations and causal effect, which are shown below:\n",
    "\n",
    "* Customer general features: Customer_Age, Gender, Dependent_count, Education_Level, Marital_Status,  Income_Category\n",
    "* Customer credit card features: Months_on_book, Card_Category, Credit_Limit\n",
    "* Customer transaction amount: Total_Trans_Amt\n",
    "\n",
    "The `Total_Trans_Amt` is the outcome in this notebook.\n"
   ]
  },
  {
   "cell_type": "code",
   "execution_count": 1,
   "id": "c3b54f2c-4a6f-4d4c-a2c9-0b08928017d9",
   "metadata": {
    "tags": []
   },
   "outputs": [],
   "source": [
    "import numpy as np\n",
    "import pandas as pd\n",
    "from matplotlib import pyplot  as plt\n",
    "\n",
    "from sklearn.model_selection import train_test_split\n",
    "from ylearn import Why"
   ]
  },
  {
   "cell_type": "code",
   "execution_count": 2,
   "id": "3a3aff67-3f8e-427f-a00d-cc70e707b8c6",
   "metadata": {},
   "outputs": [
    {
     "data": {
      "text/html": [
       "<div>\n",
       "<style scoped>\n",
       "    .dataframe tbody tr th:only-of-type {\n",
       "        vertical-align: middle;\n",
       "    }\n",
       "\n",
       "    .dataframe tbody tr th {\n",
       "        vertical-align: top;\n",
       "    }\n",
       "\n",
       "    .dataframe thead th {\n",
       "        text-align: right;\n",
       "    }\n",
       "</style>\n",
       "<table border=\"1\" class=\"dataframe\">\n",
       "  <thead>\n",
       "    <tr style=\"text-align: right;\">\n",
       "      <th></th>\n",
       "      <th>Customer_Age</th>\n",
       "      <th>Gender</th>\n",
       "      <th>Dependent_count</th>\n",
       "      <th>Education_Level</th>\n",
       "      <th>Marital_Status</th>\n",
       "      <th>Income_Category</th>\n",
       "      <th>Months_on_book</th>\n",
       "      <th>Card_Category</th>\n",
       "      <th>Credit_Limit</th>\n",
       "      <th>Total_Trans_Amt</th>\n",
       "    </tr>\n",
       "  </thead>\n",
       "  <tbody>\n",
       "    <tr>\n",
       "      <th>0</th>\n",
       "      <td>45</td>\n",
       "      <td>M</td>\n",
       "      <td>3</td>\n",
       "      <td>High School</td>\n",
       "      <td>Married</td>\n",
       "      <td>$60K - $80K</td>\n",
       "      <td>39</td>\n",
       "      <td>Blue</td>\n",
       "      <td>12691.0</td>\n",
       "      <td>1144</td>\n",
       "    </tr>\n",
       "    <tr>\n",
       "      <th>1</th>\n",
       "      <td>49</td>\n",
       "      <td>F</td>\n",
       "      <td>5</td>\n",
       "      <td>Graduate</td>\n",
       "      <td>Single</td>\n",
       "      <td>Less than $40K</td>\n",
       "      <td>44</td>\n",
       "      <td>Blue</td>\n",
       "      <td>8256.0</td>\n",
       "      <td>1291</td>\n",
       "    </tr>\n",
       "    <tr>\n",
       "      <th>2</th>\n",
       "      <td>51</td>\n",
       "      <td>M</td>\n",
       "      <td>3</td>\n",
       "      <td>Graduate</td>\n",
       "      <td>Married</td>\n",
       "      <td>$80K - $120K</td>\n",
       "      <td>36</td>\n",
       "      <td>Blue</td>\n",
       "      <td>3418.0</td>\n",
       "      <td>1887</td>\n",
       "    </tr>\n",
       "    <tr>\n",
       "      <th>3</th>\n",
       "      <td>40</td>\n",
       "      <td>F</td>\n",
       "      <td>4</td>\n",
       "      <td>High School</td>\n",
       "      <td>Unknown</td>\n",
       "      <td>Less than $40K</td>\n",
       "      <td>34</td>\n",
       "      <td>Blue</td>\n",
       "      <td>3313.0</td>\n",
       "      <td>1171</td>\n",
       "    </tr>\n",
       "    <tr>\n",
       "      <th>4</th>\n",
       "      <td>40</td>\n",
       "      <td>M</td>\n",
       "      <td>3</td>\n",
       "      <td>Uneducated</td>\n",
       "      <td>Married</td>\n",
       "      <td>$60K - $80K</td>\n",
       "      <td>21</td>\n",
       "      <td>Blue</td>\n",
       "      <td>4716.0</td>\n",
       "      <td>816</td>\n",
       "    </tr>\n",
       "    <tr>\n",
       "      <th>...</th>\n",
       "      <td>...</td>\n",
       "      <td>...</td>\n",
       "      <td>...</td>\n",
       "      <td>...</td>\n",
       "      <td>...</td>\n",
       "      <td>...</td>\n",
       "      <td>...</td>\n",
       "      <td>...</td>\n",
       "      <td>...</td>\n",
       "      <td>...</td>\n",
       "    </tr>\n",
       "    <tr>\n",
       "      <th>10122</th>\n",
       "      <td>50</td>\n",
       "      <td>M</td>\n",
       "      <td>2</td>\n",
       "      <td>Graduate</td>\n",
       "      <td>Single</td>\n",
       "      <td>$40K - $60K</td>\n",
       "      <td>40</td>\n",
       "      <td>Blue</td>\n",
       "      <td>4003.0</td>\n",
       "      <td>15476</td>\n",
       "    </tr>\n",
       "    <tr>\n",
       "      <th>10123</th>\n",
       "      <td>41</td>\n",
       "      <td>M</td>\n",
       "      <td>2</td>\n",
       "      <td>Unknown</td>\n",
       "      <td>Divorced</td>\n",
       "      <td>$40K - $60K</td>\n",
       "      <td>25</td>\n",
       "      <td>Blue</td>\n",
       "      <td>4277.0</td>\n",
       "      <td>8764</td>\n",
       "    </tr>\n",
       "    <tr>\n",
       "      <th>10124</th>\n",
       "      <td>44</td>\n",
       "      <td>F</td>\n",
       "      <td>1</td>\n",
       "      <td>High School</td>\n",
       "      <td>Married</td>\n",
       "      <td>Less than $40K</td>\n",
       "      <td>36</td>\n",
       "      <td>Blue</td>\n",
       "      <td>5409.0</td>\n",
       "      <td>10291</td>\n",
       "    </tr>\n",
       "    <tr>\n",
       "      <th>10125</th>\n",
       "      <td>30</td>\n",
       "      <td>M</td>\n",
       "      <td>2</td>\n",
       "      <td>Graduate</td>\n",
       "      <td>Unknown</td>\n",
       "      <td>$40K - $60K</td>\n",
       "      <td>36</td>\n",
       "      <td>Blue</td>\n",
       "      <td>5281.0</td>\n",
       "      <td>8395</td>\n",
       "    </tr>\n",
       "    <tr>\n",
       "      <th>10126</th>\n",
       "      <td>43</td>\n",
       "      <td>F</td>\n",
       "      <td>2</td>\n",
       "      <td>Graduate</td>\n",
       "      <td>Married</td>\n",
       "      <td>Less than $40K</td>\n",
       "      <td>25</td>\n",
       "      <td>Silver</td>\n",
       "      <td>10388.0</td>\n",
       "      <td>10294</td>\n",
       "    </tr>\n",
       "  </tbody>\n",
       "</table>\n",
       "<p>10127 rows × 10 columns</p>\n",
       "</div>"
      ],
      "text/plain": [
       "       Customer_Age Gender  Dependent_count Education_Level Marital_Status  \\\n",
       "0                45      M                3     High School        Married   \n",
       "1                49      F                5        Graduate         Single   \n",
       "2                51      M                3        Graduate        Married   \n",
       "3                40      F                4     High School        Unknown   \n",
       "4                40      M                3      Uneducated        Married   \n",
       "...             ...    ...              ...             ...            ...   \n",
       "10122            50      M                2        Graduate         Single   \n",
       "10123            41      M                2         Unknown       Divorced   \n",
       "10124            44      F                1     High School        Married   \n",
       "10125            30      M                2        Graduate        Unknown   \n",
       "10126            43      F                2        Graduate        Married   \n",
       "\n",
       "      Income_Category  Months_on_book Card_Category  Credit_Limit  \\\n",
       "0         $60K - $80K              39          Blue       12691.0   \n",
       "1      Less than $40K              44          Blue        8256.0   \n",
       "2        $80K - $120K              36          Blue        3418.0   \n",
       "3      Less than $40K              34          Blue        3313.0   \n",
       "4         $60K - $80K              21          Blue        4716.0   \n",
       "...               ...             ...           ...           ...   \n",
       "10122     $40K - $60K              40          Blue        4003.0   \n",
       "10123     $40K - $60K              25          Blue        4277.0   \n",
       "10124  Less than $40K              36          Blue        5409.0   \n",
       "10125     $40K - $60K              36          Blue        5281.0   \n",
       "10126  Less than $40K              25        Silver       10388.0   \n",
       "\n",
       "       Total_Trans_Amt  \n",
       "0                 1144  \n",
       "1                 1291  \n",
       "2                 1887  \n",
       "3                 1171  \n",
       "4                  816  \n",
       "...                ...  \n",
       "10122            15476  \n",
       "10123             8764  \n",
       "10124            10291  \n",
       "10125             8395  \n",
       "10126            10294  \n",
       "\n",
       "[10127 rows x 10 columns]"
      ]
     },
     "execution_count": 2,
     "metadata": {},
     "output_type": "execute_result"
    }
   ],
   "source": [
    "df = pd.read_csv('data/BankChurners.csv.zip')\n",
    "cols = ['Customer_Age', 'Gender', 'Dependent_count', 'Education_Level', 'Marital_Status', 'Income_Category', \n",
    "        'Months_on_book', 'Card_Category', 'Credit_Limit',  \n",
    "        'Total_Trans_Amt' \n",
    "     ]\n",
    "data = df[cols]\n",
    "outcome = 'Total_Trans_Amt'\n",
    "\n",
    "data "
   ]
  },
  {
   "cell_type": "code",
   "execution_count": 3,
   "id": "48878006-39b6-4088-b4ec-bdb78fe5fdaf",
   "metadata": {},
   "outputs": [
    {
     "name": "stdout",
     "output_type": "stream",
     "text": [
      "train_data: (7088, 10)\n",
      "test_data:  (3039, 10)\n"
     ]
    }
   ],
   "source": [
    "train_data,test_data=train_test_split(data,test_size=0.3,random_state=123)\n",
    "\n",
    "print('train_data:',train_data.shape)\n",
    "print('test_data: ',test_data.shape)"
   ]
  },
  {
   "cell_type": "markdown",
   "id": "ed993882-f246-42b4-9647-ae43b23fb630",
   "metadata": {
    "tags": []
   },
   "source": [
    "## 3. Causal Effect with Defined Treatment\n"
   ]
  },
  {
   "cell_type": "markdown",
   "id": "34bdbe3d-9ff4-4f07-b7c5-abfdd564be01",
   "metadata": {},
   "source": [
    "### A. Statistics of Card_Category\n",
    "\n",
    "Among the three credit card features, `Card_Category` is a categorical and reasonable variable as treatment. An overview of card categories and corresponding average transaction amount is displayed below."
   ]
  },
  {
   "cell_type": "code",
   "execution_count": 4,
   "id": "79b21dee-e495-4912-b078-d53ea0f6af3d",
   "metadata": {},
   "outputs": [
    {
     "data": {
      "text/html": [
       "<div>\n",
       "<style scoped>\n",
       "    .dataframe tbody tr th:only-of-type {\n",
       "        vertical-align: middle;\n",
       "    }\n",
       "\n",
       "    .dataframe tbody tr th {\n",
       "        vertical-align: top;\n",
       "    }\n",
       "\n",
       "    .dataframe thead tr th {\n",
       "        text-align: left;\n",
       "    }\n",
       "\n",
       "    .dataframe thead tr:last-of-type th {\n",
       "        text-align: right;\n",
       "    }\n",
       "</style>\n",
       "<table border=\"1\" class=\"dataframe\">\n",
       "  <thead>\n",
       "    <tr>\n",
       "      <th></th>\n",
       "      <th colspan=\"3\" halign=\"left\">Total_Trans_Amt</th>\n",
       "    </tr>\n",
       "    <tr>\n",
       "      <th></th>\n",
       "      <th>mean</th>\n",
       "      <th>min</th>\n",
       "      <th>max</th>\n",
       "    </tr>\n",
       "    <tr>\n",
       "      <th>Card_Category</th>\n",
       "      <th></th>\n",
       "      <th></th>\n",
       "      <th></th>\n",
       "    </tr>\n",
       "  </thead>\n",
       "  <tbody>\n",
       "    <tr>\n",
       "      <th>Blue</th>\n",
       "      <td>4231.481184</td>\n",
       "      <td>510</td>\n",
       "      <td>17995</td>\n",
       "    </tr>\n",
       "    <tr>\n",
       "      <th>Silver</th>\n",
       "      <td>6743.212121</td>\n",
       "      <td>691</td>\n",
       "      <td>17628</td>\n",
       "    </tr>\n",
       "    <tr>\n",
       "      <th>Gold</th>\n",
       "      <td>7516.448276</td>\n",
       "      <td>966</td>\n",
       "      <td>16328</td>\n",
       "    </tr>\n",
       "    <tr>\n",
       "      <th>Platinum</th>\n",
       "      <td>8047.133333</td>\n",
       "      <td>1156</td>\n",
       "      <td>16712</td>\n",
       "    </tr>\n",
       "  </tbody>\n",
       "</table>\n",
       "</div>"
      ],
      "text/plain": [
       "              Total_Trans_Amt             \n",
       "                         mean   min    max\n",
       "Card_Category                             \n",
       "Blue              4231.481184   510  17995\n",
       "Silver            6743.212121   691  17628\n",
       "Gold              7516.448276   966  16328\n",
       "Platinum          8047.133333  1156  16712"
      ]
     },
     "execution_count": 4,
     "metadata": {},
     "output_type": "execute_result"
    },
    {
     "data": {
      "image/png": "[encoded data removed]",
      "text/plain": [
       "<Figure size 432x288 with 1 Axes>"
      ]
     },
     "metadata": {
      "needs_background": "light"
     },
     "output_type": "display_data"
    }
   ],
   "source": [
    "card_stat=train_data[['Card_Category','Total_Trans_Amt']].groupby('Card_Category').agg(['mean','min','max',]).sort_values(by=('Total_Trans_Amt','mean'))\n",
    "\n",
    "card_stat[('Total_Trans_Amt','mean')].plot(kind='bar', title='Mean of Total_Trans_Amt')\n",
    "card_stat"
   ]
  },
  {
   "cell_type": "markdown",
   "id": "7cd9f93c-89f8-4428-a69c-654beb4b11ae",
   "metadata": {},
   "source": [
    "### B. Learn Why with `treatment='Card_Category'`\n",
    "\n",
    "Firstly, create an instance of `Why`. Then train the model with `fit()` method, which defines `treatment=’Card_Category’.` The printed logs show the information of identified results and used eatimator. To visualize the causal relations, use `plot_causal_graph()` to obtain the causal graph."
   ]
  },
  {
   "cell_type": "code",
   "execution_count": 5,
   "id": "85db22c0-9e0e-470c-be86-8051a0fc25d2",
   "metadata": {},
   "outputs": [
    {
     "name": "stdout",
     "output_type": "stream",
     "text": [
      "07-06 13:21:56 I ylearn._why.py 474 - infer outcome as regression\n",
      "07-06 13:21:56 I ylearn._why.py 484 - identify treatment, adjustment, covariate and instrument\n",
      "07-06 13:21:56 I ylearn._why.py 610 - infer discrete_treatment=True\n",
      "07-06 13:21:56 I ylearn._why.py 625 - identified adjustment: None\n",
      "07-06 13:21:56 I ylearn._why.py 626 - identified covariate: ['Customer_Age', 'Gender', 'Dependent_count', 'Education_Level', 'Marital_Status', 'Income_Category', 'Months_on_book', 'Credit_Limit']\n",
      "07-06 13:21:56 I ylearn._why.py 627 - identified instrument: None\n",
      "07-06 13:21:56 I ylearn._why.py 493 - encode treatment ...\n",
      "07-06 13:21:56 I ylearn._why.py 503 - preprocess data ...\n",
      "07-06 13:21:56 I ylearn._why.py 521 - fit estimator for Card_Category with PermutedTLearner(model=GradientBoostingRegressor(max_depth=100), random_state=2022, kwargs=None)\n"
     ]
    },
    {
     "data": {
      "text/plain": [
       "Why(discrete_outcome=False, discrete_treatment=True)"
      ]
     },
     "execution_count": 5,
     "metadata": {},
     "output_type": "execute_result"
    }
   ],
   "source": [
    "why=Why()\n",
    "why.fit(train_data,outcome,treatment='Card_Category')"
   ]
  },
  {
   "cell_type": "code",
   "execution_count": 6,
   "id": "75ffbc11-4bca-45f8-9e65-618e902354d3",
   "metadata": {
    "tags": []
   },
   "outputs": [
    {
     "data": {
      "image/png": "[encoded data removed]",
      "text/plain": [
       "<IPython.core.display.Image object>"
      ]
     },
     "metadata": {},
     "output_type": "display_data"
    }
   ],
   "source": [
    "why.plot_causal_graph()"
   ]
  },
  {
   "cell_type": "markdown",
   "id": "4a32d38a-810c-49a0-b657-9dc6c6d73f5b",
   "metadata": {},
   "source": [
    "### C. Estimate causal effect\n",
    "\n",
    "There are four types of card categoties: Blue, Sliver, Gold and Platinum. Taking Blue as control variable and the rest three as treatment variables, method `causal_effect()` outputs three causal effect estimations.  From the results, we find that card upgrade will increase the personal transaction amount. Gold card has the strongest effect."
   ]
  },
  {
   "cell_type": "code",
   "execution_count": 7,
   "id": "f97c7681-e57a-44d7-b87c-48b4b9263a14",
   "metadata": {},
   "outputs": [
    {
     "data": {
      "image/png": "[encoded data removed]",
      "text/plain": [
       "<Figure size 720x360 with 1 Axes>"
      ]
     },
     "metadata": {
      "needs_background": "light"
     },
     "output_type": "display_data"
    },
    {
     "data": {
      "text/html": [
       "<div>\n",
       "<style scoped>\n",
       "    .dataframe tbody tr th:only-of-type {\n",
       "        vertical-align: middle;\n",
       "    }\n",
       "\n",
       "    .dataframe tbody tr th {\n",
       "        vertical-align: top;\n",
       "    }\n",
       "\n",
       "    .dataframe thead th {\n",
       "        text-align: right;\n",
       "    }\n",
       "</style>\n",
       "<table border=\"1\" class=\"dataframe\">\n",
       "  <thead>\n",
       "    <tr style=\"text-align: right;\">\n",
       "      <th></th>\n",
       "      <th>mean</th>\n",
       "      <th>min</th>\n",
       "      <th>max</th>\n",
       "      <th>std</th>\n",
       "    </tr>\n",
       "  </thead>\n",
       "  <tbody>\n",
       "    <tr>\n",
       "      <th>Silver vs Blue</th>\n",
       "      <td>1389.101262</td>\n",
       "      <td>-16030.507479</td>\n",
       "      <td>15200.662955</td>\n",
       "      <td>5474.555212</td>\n",
       "    </tr>\n",
       "    <tr>\n",
       "      <th>Platinum vs Blue</th>\n",
       "      <td>3698.362357</td>\n",
       "      <td>-15575.484931</td>\n",
       "      <td>16067.674561</td>\n",
       "      <td>5733.207134</td>\n",
       "    </tr>\n",
       "    <tr>\n",
       "      <th>Gold vs Blue</th>\n",
       "      <td>7879.761014</td>\n",
       "      <td>-15134.51074</td>\n",
       "      <td>15304.622191</td>\n",
       "      <td>5427.989114</td>\n",
       "    </tr>\n",
       "  </tbody>\n",
       "</table>\n",
       "</div>"
      ],
      "text/plain": [
       "                         mean           min           max          std\n",
       "Silver vs Blue    1389.101262 -16030.507479  15200.662955  5474.555212\n",
       "Platinum vs Blue  3698.362357 -15575.484931  16067.674561  5733.207134\n",
       "Gold vs Blue      7879.761014  -15134.51074  15304.622191  5427.989114"
      ]
     },
     "execution_count": 7,
     "metadata": {},
     "output_type": "execute_result"
    }
   ],
   "source": [
    "effect=why.causal_effect(control='Blue',return_detail=True)\n",
    "effect=effect.loc['Card_Category'].sort_values(by='mean')\n",
    "details=effect.pop('detail')\n",
    "\n",
    "plt.figure(figsize=(10, 5))\n",
    "plt.violinplot(details.tolist(), showmeans=True)\n",
    "plt.ylabel('Effect distribution')\n",
    "plt.xticks(range(1,len(effect)+1), details.index.tolist())\n",
    "plt.plot( [0, ]*(len(effect)+2) )\n",
    "plt.show()\n",
    "\n",
    "effect"
   ]
  },
  {
   "cell_type": "markdown",
   "id": "9936d282-70cc-4ccf-ba27-fc903d5d7123",
   "metadata": {
    "tags": []
   },
   "source": [
    "### D. Counterfactual inference\n",
    "\n",
    "As decision makers, they would like to know the estimated increment if upgrading customers' card category. `whatif()` provides the solution to do counterfactual inference.   \n",
    "\n",
    "* Upgrade all **Blue** cards to **Sliver**"
   ]
  },
  {
   "cell_type": "code",
   "execution_count": 8,
   "id": "09b4f12b-eadf-4afc-bebf-5e572608880e",
   "metadata": {
    "tags": []
   },
   "outputs": [
    {
     "name": "stdout",
     "output_type": "stream",
     "text": [
      "Selected customers: 6590\n",
      "Mean Total_Trans_Amt with Blue card:\t4231.481\n",
      "Mean Total_Trans_Amt if Silver card:\t5651.153\n"
     ]
    },
    {
     "data": {
      "text/plain": [
       "<matplotlib.legend.Legend at 0x7ffa08a565b0>"
      ]
     },
     "execution_count": 8,
     "metadata": {},
     "output_type": "execute_result"
    },
    {
     "data": {
      "image/png": "[encoded data removed]",
      "text/plain": [
       "<Figure size 576x360 with 1 Axes>"
      ]
     },
     "metadata": {
      "needs_background": "light"
     },
     "output_type": "display_data"
    }
   ],
   "source": [
    "whatif_data= train_data[lambda df: df['Card_Category']=='Blue' ]\n",
    "out_orig=whatif_data[outcome]\n",
    "\n",
    "value_sliver=whatif_data['Card_Category'].map(lambda _:'Silver')\n",
    "out_silver=why.whatif(whatif_data,value_sliver,treatment='Card_Category')\n",
    "\n",
    "print('Selected customers:', len(whatif_data))\n",
    "print(f'Mean {outcome} with Blue card:\\t{out_orig.mean():.3f}' )\n",
    "print(f'Mean {outcome} if Silver card:\\t{out_silver.mean():.3f}' )\n",
    "\n",
    "plt.figure(figsize=(8, 5), )\n",
    "out_orig.hist(label='Blue card',bins=30,alpha=0.7)\n",
    "out_silver.hist(label='Silver card',bins=30,alpha=0.7)\n",
    "plt.legend()"
   ]
  },
  {
   "cell_type": "markdown",
   "id": "a6ed1544-d387-43fb-9e0d-3391cabf49e7",
   "metadata": {},
   "source": [
    "* Upgrade all **Blue** cards to **Gold**"
   ]
  },
  {
   "cell_type": "code",
   "execution_count": 9,
   "id": "8e432d06-8404-405a-9385-c569c476916e",
   "metadata": {},
   "outputs": [
    {
     "name": "stdout",
     "output_type": "stream",
     "text": [
      "Selected customers: 6590\n",
      "Mean Total_Trans_Amt with Blue card:\t4231.481\n",
      "Mean Total_Trans_Amt if Gold card:\t12477.160\n"
     ]
    },
    {
     "data": {
      "text/plain": [
       "<matplotlib.legend.Legend at 0x7ffa08968f40>"
      ]
     },
     "execution_count": 9,
     "metadata": {},
     "output_type": "execute_result"
    },
    {
     "data": {
      "image/png": "[encoded data removed]",
      "text/plain": [
       "<Figure size 576x360 with 1 Axes>"
      ]
     },
     "metadata": {
      "needs_background": "light"
     },
     "output_type": "display_data"
    }
   ],
   "source": [
    "whatif_data= train_data[lambda df: df['Card_Category']=='Blue' ]\n",
    "out_orig=whatif_data[outcome]\n",
    "\n",
    "value_gold=whatif_data['Card_Category'].map(lambda _:'Gold')\n",
    "out_gold=why.whatif(whatif_data,value_gold,treatment='Card_Category')\n",
    "\n",
    "\n",
    "print('Selected customers:', len(whatif_data))\n",
    "print(f'Mean {outcome} with Blue card:\\t{out_orig.mean():.3f}' )\n",
    "print(f'Mean {outcome} if Gold card:\\t{out_gold.mean():.3f}' )\n",
    "\n",
    "plt.figure(figsize=(8, 5), )\n",
    "out_orig.hist(label='Blue card',bins=30,alpha=0.7)\n",
    "out_gold.hist(label='Gold card',bins=30,alpha=0.7)\n",
    "plt.legend()"
   ]
  },
  {
   "cell_type": "markdown",
   "id": "a80bde1e-7ce5-483c-b2b6-012f1999da76",
   "metadata": {},
   "source": [
    "* Upgrade all **Blue** cards to **Platinum**"
   ]
  },
  {
   "cell_type": "code",
   "execution_count": 10,
   "id": "874a2ac4-1a0a-40fb-9ed7-fa6db533037b",
   "metadata": {},
   "outputs": [
    {
     "name": "stdout",
     "output_type": "stream",
     "text": [
      "Selected customers: 6590\n",
      "Mean Total_Trans_Amt with Blue card:\t4231.481\n",
      "Mean Total_Trans_Amt if Platinum card:\t8044.294\n"
     ]
    },
    {
     "data": {
      "text/plain": [
       "<matplotlib.legend.Legend at 0x7ffa08844ee0>"
      ]
     },
     "execution_count": 10,
     "metadata": {},
     "output_type": "execute_result"
    },
    {
     "data": {
      "image/png": "[encoded data removed]",
      "text/plain": [
       "<Figure size 576x360 with 1 Axes>"
      ]
     },
     "metadata": {
      "needs_background": "light"
     },
     "output_type": "display_data"
    }
   ],
   "source": [
    "whatif_data= train_data[lambda df: df['Card_Category']=='Blue' ]\n",
    "out_orig=whatif_data[outcome]\n",
    "\n",
    "value_platinum=whatif_data['Card_Category'].map(lambda _:'Platinum')\n",
    "out_platinum=why.whatif(whatif_data,value_platinum,treatment='Card_Category')\n",
    "\n",
    "\n",
    "print('Selected customers:', len(whatif_data))\n",
    "print(f'Mean {outcome} with Blue card:\\t{out_orig.mean():.3f}' )\n",
    "print(f'Mean {outcome} if Platinum card:\\t{out_platinum.mean():.3f}' )\n",
    "\n",
    "plt.figure(figsize=(8, 5), )\n",
    "out_orig.hist(label='Blue card',bins=30,alpha=0.7)\n",
    "out_platinum.hist(label='Platinum card',bins=30,alpha=0.7)\n",
    "plt.legend()"
   ]
  },
  {
   "cell_type": "markdown",
   "id": "11fc4489",
   "metadata": {},
   "source": [
    "By upgrading all Blue cards to Sliver, Gold and Platinum cards, the estimations of mean Total_Trans_Amt increase from 4231 to 5651, 12477 and 8044 respectively. It's a promising improvement. However, we may wonder if upgrading all Blue to Gold is the optimized solution. "
   ]
  },
  {
   "cell_type": "markdown",
   "id": "4dacd1e6-cbd1-4175-a2b0-b0ceba25070c",
   "metadata": {
    "tags": []
   },
   "source": [
    "### E. Policy interpreter\n",
    "\n",
    "YLearn also provides `policy_interpreter()` method to search the optimized solution."
   ]
  },
  {
   "cell_type": "code",
   "execution_count": 11,
   "id": "76b3a14f-9671-4943-aeac-dab836a57fd8",
   "metadata": {},
   "outputs": [
    {
     "name": "stdout",
     "output_type": "stream",
     "text": [
      "07-06 13:22:06 I ylearn.p.policy_model.py 452 - Start building the policy tree with criterion PRegCriteria\n",
      "07-06 13:22:06 I ylearn.p.policy_model.py 468 - Building the policy tree with splitter BestSplitter\n",
      "07-06 13:22:06 I ylearn.p.policy_model.py 511 - Building the policy tree with builder DepthFirstTreeBuilder\n"
     ]
    },
    {
     "data": {
      "text/plain": [
       "[Text(0.5, 0.8333333333333334, 'Credit_Limit <= 15507.0\\nsamples = 6590\\nvalue = [[0.0]\\n[8245.679]\\n[3812.813]\\n[1419.671]]'),\n",
       " Text(0.25, 0.5, 'Credit_Limit <= 15231.5\\nsamples = 5740\\nvalue = [[0.0]\\n[9130.243]\\n[3888.034]\\n[1389.85]]'),\n",
       " Text(0.125, 0.16666666666666666, 'samples = 5727\\nvalue = [[0.0]\\n[9139.36]\\n[3890.432]\\n[1378.435]]'),\n",
       " Text(0.375, 0.16666666666666666, 'samples = 13\\nvalue = [[0.0]\\n[5113.623]\\n[2831.457]\\n[6418.655]]'),\n",
       " Text(0.75, 0.5, 'Months_on_book <= 34.5\\nsamples = 850\\nvalue = [[0.0]\\n[2272.272]\\n[3304.85]\\n[1621.056]]'),\n",
       " Text(0.625, 0.16666666666666666, 'samples = 287\\nvalue = [[0.0]\\n[1486.319]\\n[101.333]\\n[3001.451]]'),\n",
       " Text(0.875, 0.16666666666666666, 'samples = 563\\nvalue = [[0.0]\\n[2672.927]\\n[4937.904]\\n[917.373]]')]"
      ]
     },
     "execution_count": 11,
     "metadata": {},
     "output_type": "execute_result"
    },
    {
     "data": {
      "image/png": "[encoded data removed]",
      "text/plain": [
       "<Figure size 1080x720 with 1 Axes>"
      ]
     },
     "metadata": {
      "needs_background": "light"
     },
     "output_type": "display_data"
    }
   ],
   "source": [
    "pi=why.policy_interpreter(whatif_data,  max_depth=2)\n",
    "\n",
    "plt.figure(figsize=(15, 10), )\n",
    "pi.plot()"
   ]
  },
  {
   "cell_type": "markdown",
   "id": "3764d171",
   "metadata": {},
   "source": [
    "The tree intepreter is split into four nodes based on Credit_Limit and Month_on_book. The value array indicates the causal effects of the control variable(Blue vs Blue) and three treatments(Gold vs Blue, Platinum vs Blue, Silver vs Blue). The higher value means the better performance. Looking at the first node, the policy tree recommends to upgrade Blue cards to Gold for customers with 'Credit_limit<=15231.5'. "
   ]
  },
  {
   "cell_type": "markdown",
   "id": "6b790dbd-bf9f-4705-9abf-6b4f016c2cff",
   "metadata": {},
   "source": [
    "* Upgrade credit card with causal policy"
   ]
  },
  {
   "cell_type": "code",
   "execution_count": 12,
   "id": "aec6d2cb-867f-4ce7-b199-a477458a9918",
   "metadata": {},
   "outputs": [
    {
     "data": {
      "text/plain": [
       "array(['Blue', 'Gold', 'Platinum', 'Silver'], dtype=object)"
      ]
     },
     "execution_count": 12,
     "metadata": {},
     "output_type": "execute_result"
    }
   ],
   "source": [
    "why.x_encoders_['Card_Category'].classes_"
   ]
  },
  {
   "cell_type": "code",
   "execution_count": 13,
   "id": "c1f30673-2d76-44ed-93fb-66dc50ab401a",
   "metadata": {
    "jupyter": {
     "source_hidden": true
    },
    "tags": []
   },
   "outputs": [],
   "source": [
    "def card_from_policy(row):\n",
    "    # print(row,type(row))\n",
    "    credit_limit=  row['Credit_Limit']\n",
    "    months_on_book =  row['Months_on_book']\n",
    "    if credit_limit <= 15507.0:        \n",
    "        if credit_limit <= 15231.5:\n",
    "            return 'Gold'\n",
    "        else:\n",
    "            return 'Silver'\n",
    "    else:\n",
    "        if months_on_book<=34.5:\n",
    "            return 'Silver'\n",
    "        else:\n",
    "            return 'Platinum' "
   ]
  },
  {
   "cell_type": "code",
   "execution_count": 14,
   "id": "abb4c615-59cc-4594-8382-1cfc4b7ce76f",
   "metadata": {},
   "outputs": [
    {
     "name": "stdout",
     "output_type": "stream",
     "text": [
      "Selected customers: 6590\n",
      "Mean of Total_Trans_Amt with Blue card:\t4231.481\n",
      "Mean of Total_Trans_Amt if apply policy:\t12739.222\n"
     ]
    },
    {
     "data": {
      "text/plain": [
       "<matplotlib.legend.Legend at 0x7ff95208d700>"
      ]
     },
     "execution_count": 14,
     "metadata": {},
     "output_type": "execute_result"
    },
    {
     "data": {
      "image/png": "[encoded data removed]",
      "text/plain": [
       "<Figure size 576x360 with 1 Axes>"
      ]
     },
     "metadata": {
      "needs_background": "light"
     },
     "output_type": "display_data"
    }
   ],
   "source": [
    "whatif_data= train_data[lambda df: df['Card_Category']=='Blue' ]\n",
    "out_orig=whatif_data[outcome]\n",
    "\n",
    "value_from_policy=whatif_data.apply(card_from_policy,axis=1)\n",
    "out_from_policy=why.whatif(whatif_data,value_from_policy,treatment='Card_Category')\n",
    "\n",
    "\n",
    "print('Selected customers:', len(whatif_data))\n",
    "print(f'Mean of {outcome} with Blue card:\\t{out_orig.mean():.3f}' )\n",
    "print(f'Mean of {outcome} if apply policy:\\t{out_from_policy.mean():.3f}' )\n",
    "\n",
    "plt.figure(figsize=(8, 5), )\n",
    "out_orig.hist(label='Blue card',bins=30,alpha=0.7)\n",
    "out_from_policy.hist(label='Card from policy',bins=30,alpha=0.7)\n",
    "plt.legend()"
   ]
  },
  {
   "cell_type": "markdown",
   "id": "6ea6ceb6-d134-4a08-a5c2-f94567382b00",
   "metadata": {},
   "source": [
    "### F. Effect comparison"
   ]
  },
  {
   "cell_type": "code",
   "execution_count": 15,
   "id": "8b18d5f7-32aa-4373-aeb3-c371ae349018",
   "metadata": {},
   "outputs": [
    {
     "data": {
      "text/html": [
       "<div>\n",
       "<style scoped>\n",
       "    .dataframe tbody tr th:only-of-type {\n",
       "        vertical-align: middle;\n",
       "    }\n",
       "\n",
       "    .dataframe tbody tr th {\n",
       "        vertical-align: top;\n",
       "    }\n",
       "\n",
       "    .dataframe thead th {\n",
       "        text-align: right;\n",
       "    }\n",
       "</style>\n",
       "<table border=\"1\" class=\"dataframe\">\n",
       "  <thead>\n",
       "    <tr style=\"text-align: right;\">\n",
       "      <th></th>\n",
       "      <th>Mean of Total_Trans_Amt</th>\n",
       "    </tr>\n",
       "  </thead>\n",
       "  <tbody>\n",
       "    <tr>\n",
       "      <th>Blue to Silver</th>\n",
       "      <td>5651.152584</td>\n",
       "    </tr>\n",
       "    <tr>\n",
       "      <th>Blue to Gold</th>\n",
       "      <td>12477.160069</td>\n",
       "    </tr>\n",
       "    <tr>\n",
       "      <th>Blue to Platinum</th>\n",
       "      <td>8044.293858</td>\n",
       "    </tr>\n",
       "    <tr>\n",
       "      <th>Card from Policy</th>\n",
       "      <td>12739.222379</td>\n",
       "    </tr>\n",
       "  </tbody>\n",
       "</table>\n",
       "</div>"
      ],
      "text/plain": [
       "                  Mean of Total_Trans_Amt\n",
       "Blue to Silver                5651.152584\n",
       "Blue to Gold                 12477.160069\n",
       "Blue to Platinum              8044.293858\n",
       "Card from Policy             12739.222379"
      ]
     },
     "execution_count": 15,
     "metadata": {},
     "output_type": "execute_result"
    },
    {
     "data": {
      "image/png": "[encoded data removed]",
      "text/plain": [
       "<Figure size 432x288 with 1 Axes>"
      ]
     },
     "metadata": {
      "needs_background": "light"
     },
     "output_type": "display_data"
    }
   ],
   "source": [
    "whatif_summary=pd.Series({\n",
    "    'Blue to Silver': out_silver.mean(),\n",
    "    'Blue to Gold': out_gold.mean(),\n",
    "    'Blue to Platinum': out_platinum.mean(),\n",
    "    'Card from Policy': out_from_policy.mean(),\n",
    "    },name=f'Mean of {outcome}').to_frame()\n",
    "whatif_summary.plot(kind='bar',legend=False)\n",
    "whatif_summary"
   ]
  },
  {
   "cell_type": "markdown",
   "id": "79954781",
   "metadata": {},
   "source": [
    "### G. Conclusion\n",
    "\n",
    "From the comparion results, our policy gets the highest transaction amount! Although the policy doesn't consider costs and risks, it provides the customized strategies to help increase the transaction amount."
   ]
  },
  {
   "cell_type": "markdown",
   "id": "72c99d78-d7ec-4bad-b457-1069daad2b53",
   "metadata": {
    "tags": []
   },
   "source": [
    "## 4. Causal effect with Causal Discovery"
   ]
  },
  {
   "cell_type": "markdown",
   "id": "f8f1b8dc-f89d-4782-9b35-b3e428a30a08",
   "metadata": {},
   "source": [
    "### A. Learn Why with `treatment=None`\n",
    "\n",
    "This section uses the default setting of `fit()` method, which means applying causal discovery to find the causal relations. "
   ]
  },
  {
   "cell_type": "code",
   "execution_count": 16,
   "id": "19e1b804-4384-4add-a0af-d11a9d5831ff",
   "metadata": {},
   "outputs": [
    {
     "name": "stdout",
     "output_type": "stream",
     "text": [
      "07-06 13:22:06 I ylearn._why.py 474 - infer outcome as regression\n",
      "07-06 13:22:06 I ylearn._why.py 484 - identify treatment, adjustment, covariate and instrument\n",
      "07-06 13:22:06 I ylearn.s._transformer.py 132 - preprocessing\n",
      "07-06 13:22:06 I ylearn.s._transformer.py 134 - scoring\n",
      "07-06 13:22:07 I ylearn._why.py 598 - identified treatment[classification]: ['Gender', 'Education_Level']\n",
      "07-06 13:22:07 I ylearn._why.py 610 - infer discrete_treatment=True\n",
      "07-06 13:22:07 I ylearn._why.py 625 - identified adjustment: None\n",
      "07-06 13:22:07 I ylearn._why.py 626 - identified covariate: ['Customer_Age', 'Dependent_count', 'Marital_Status', 'Income_Category', 'Months_on_book', 'Card_Category', 'Credit_Limit']\n",
      "07-06 13:22:07 I ylearn._why.py 627 - identified instrument: None\n",
      "07-06 13:22:07 I ylearn._why.py 493 - encode treatment ...\n",
      "07-06 13:22:07 I ylearn._why.py 503 - preprocess data ...\n",
      "07-06 13:22:07 I ylearn._why.py 521 - fit estimator for Gender with PermutedTLearner(model=GradientBoostingRegressor(max_depth=100, random_state=123), random_state=123, kwargs=None)\n",
      "07-06 13:22:09 I ylearn._why.py 521 - fit estimator for Education_Level with PermutedTLearner(model=GradientBoostingRegressor(max_depth=100, random_state=123), random_state=123, kwargs=None)\n",
      "07-06 13:22:21 I ylearn._why.py 521 - fit estimator for ('Gender', 'Education_Level') with PermutedTLearner(model=GradientBoostingRegressor(max_depth=100, random_state=123), random_state=123, kwargs=None)\n",
      "07-06 13:22:49 I ylearn._why.py 521 - fit estimator for ('Education_Level', 'Gender') with PermutedTLearner(model=GradientBoostingRegressor(max_depth=100, random_state=123), random_state=123, kwargs=None)\n"
     ]
    },
    {
     "data": {
      "text/plain": [
       "Why(discrete_outcome=False, discrete_treatment=True, random_state=123)"
      ]
     },
     "execution_count": 16,
     "metadata": {},
     "output_type": "execute_result"
    }
   ],
   "source": [
    "why=Why(random_state=123)\n",
    "why.fit(train_data,outcome)"
   ]
  },
  {
   "cell_type": "code",
   "execution_count": 17,
   "id": "5c0660f7-5eb4-49cb-aa7b-af456a169dac",
   "metadata": {
    "tags": []
   },
   "outputs": [
    {
     "data": {
      "image/png": "[encoded data removed]",
      "text/plain": [
       "<IPython.core.display.Image object>"
      ]
     },
     "metadata": {},
     "output_type": "display_data"
    }
   ],
   "source": [
    "why.plot_causal_graph()"
   ]
  },
  {
   "cell_type": "markdown",
   "id": "4f45742d",
   "metadata": {},
   "source": [
    "We observe customer gender and education level are identified as the important factors that impact the total transaction amounts. The two features are quite reasonable. However, it's hard to make them as treaments in practice. "
   ]
  },
  {
   "cell_type": "markdown",
   "id": "07968b76-c98b-43d5-b7ca-e0b1e3e01c51",
   "metadata": {},
   "source": [
    "### B. Estimate causal effect on train_data\n",
    "\n",
    "Just to show the method usage, we estimate the causal effects by taking 'M'(gender) and 'College'(education level) as treatments. "
   ]
  },
  {
   "cell_type": "code",
   "execution_count": 18,
   "id": "44d8cef0-cccb-4c59-9cb7-460c77875be4",
   "metadata": {},
   "outputs": [
    {
     "data": {
      "text/html": [
       "<div>\n",
       "<style scoped>\n",
       "    .dataframe tbody tr th:only-of-type {\n",
       "        vertical-align: middle;\n",
       "    }\n",
       "\n",
       "    .dataframe tbody tr th {\n",
       "        vertical-align: top;\n",
       "    }\n",
       "\n",
       "    .dataframe thead th {\n",
       "        text-align: right;\n",
       "    }\n",
       "</style>\n",
       "<table border=\"1\" class=\"dataframe\">\n",
       "  <thead>\n",
       "    <tr style=\"text-align: right;\">\n",
       "      <th></th>\n",
       "      <th></th>\n",
       "      <th>mean</th>\n",
       "      <th>min</th>\n",
       "      <th>max</th>\n",
       "      <th>std</th>\n",
       "    </tr>\n",
       "  </thead>\n",
       "  <tbody>\n",
       "    <tr>\n",
       "      <th>Gender</th>\n",
       "      <th>F vs M</th>\n",
       "      <td>406.626866</td>\n",
       "      <td>-16334.569379</td>\n",
       "      <td>15510.584747</td>\n",
       "      <td>4813.098184</td>\n",
       "    </tr>\n",
       "    <tr>\n",
       "      <th rowspan=\"6\" valign=\"top\">Education_Level</th>\n",
       "      <th>Doctorate vs College</th>\n",
       "      <td>513.555777</td>\n",
       "      <td>-15261.128900</td>\n",
       "      <td>14312.104970</td>\n",
       "      <td>4722.906472</td>\n",
       "    </tr>\n",
       "    <tr>\n",
       "      <th>Graduate vs College</th>\n",
       "      <td>237.586831</td>\n",
       "      <td>-15306.590172</td>\n",
       "      <td>16048.334966</td>\n",
       "      <td>4421.579541</td>\n",
       "    </tr>\n",
       "    <tr>\n",
       "      <th>High School vs College</th>\n",
       "      <td>434.868307</td>\n",
       "      <td>-15409.586171</td>\n",
       "      <td>16052.578128</td>\n",
       "      <td>4658.106673</td>\n",
       "    </tr>\n",
       "    <tr>\n",
       "      <th>Post-Graduate vs College</th>\n",
       "      <td>366.174504</td>\n",
       "      <td>-15187.796393</td>\n",
       "      <td>15567.004489</td>\n",
       "      <td>4640.986284</td>\n",
       "    </tr>\n",
       "    <tr>\n",
       "      <th>Uneducated vs College</th>\n",
       "      <td>343.300940</td>\n",
       "      <td>-15311.588333</td>\n",
       "      <td>15354.585566</td>\n",
       "      <td>4581.909083</td>\n",
       "    </tr>\n",
       "    <tr>\n",
       "      <th>Unknown vs College</th>\n",
       "      <td>214.187185</td>\n",
       "      <td>-15124.595100</td>\n",
       "      <td>15540.590368</td>\n",
       "      <td>4371.778955</td>\n",
       "    </tr>\n",
       "  </tbody>\n",
       "</table>\n",
       "</div>"
      ],
      "text/plain": [
       "                                                mean           min  \\\n",
       "Gender          F vs M                    406.626866 -16334.569379   \n",
       "Education_Level Doctorate vs College      513.555777 -15261.128900   \n",
       "                Graduate vs College       237.586831 -15306.590172   \n",
       "                High School vs College    434.868307 -15409.586171   \n",
       "                Post-Graduate vs College  366.174504 -15187.796393   \n",
       "                Uneducated vs College     343.300940 -15311.588333   \n",
       "                Unknown vs College        214.187185 -15124.595100   \n",
       "\n",
       "                                                   max          std  \n",
       "Gender          F vs M                    15510.584747  4813.098184  \n",
       "Education_Level Doctorate vs College      14312.104970  4722.906472  \n",
       "                Graduate vs College       16048.334966  4421.579541  \n",
       "                High School vs College    16052.578128  4658.106673  \n",
       "                Post-Graduate vs College  15567.004489  4640.986284  \n",
       "                Uneducated vs College     15354.585566  4581.909083  \n",
       "                Unknown vs College        15540.590368  4371.778955  "
      ]
     },
     "execution_count": 18,
     "metadata": {},
     "output_type": "execute_result"
    }
   ],
   "source": [
    "why.causal_effect(control=['M','College'])"
   ]
  },
  {
   "cell_type": "markdown",
   "id": "c52fca6b-ab6f-4fc1-8791-90c1e2635e30",
   "metadata": {},
   "source": [
    "### C. Estimate causal effect on test_data\n",
    "\n",
    "The causal effect estimations of test_data are displayed. "
   ]
  },
  {
   "cell_type": "code",
   "execution_count": 19,
   "id": "478ae3c6-09f2-4039-b78b-534cb37f696d",
   "metadata": {},
   "outputs": [
    {
     "data": {
      "text/html": [
       "<div>\n",
       "<style scoped>\n",
       "    .dataframe tbody tr th:only-of-type {\n",
       "        vertical-align: middle;\n",
       "    }\n",
       "\n",
       "    .dataframe tbody tr th {\n",
       "        vertical-align: top;\n",
       "    }\n",
       "\n",
       "    .dataframe thead th {\n",
       "        text-align: right;\n",
       "    }\n",
       "</style>\n",
       "<table border=\"1\" class=\"dataframe\">\n",
       "  <thead>\n",
       "    <tr style=\"text-align: right;\">\n",
       "      <th></th>\n",
       "      <th></th>\n",
       "      <th>mean</th>\n",
       "      <th>min</th>\n",
       "      <th>max</th>\n",
       "      <th>std</th>\n",
       "    </tr>\n",
       "  </thead>\n",
       "  <tbody>\n",
       "    <tr>\n",
       "      <th>Gender</th>\n",
       "      <th>F vs M</th>\n",
       "      <td>400.416773</td>\n",
       "      <td>-15499.642309</td>\n",
       "      <td>15510.584747</td>\n",
       "      <td>4875.212986</td>\n",
       "    </tr>\n",
       "    <tr>\n",
       "      <th rowspan=\"6\" valign=\"top\">Education_Level</th>\n",
       "      <th>Doctorate vs College</th>\n",
       "      <td>661.178857</td>\n",
       "      <td>-14701.608489</td>\n",
       "      <td>14319.936226</td>\n",
       "      <td>4822.661456</td>\n",
       "    </tr>\n",
       "    <tr>\n",
       "      <th>Graduate vs College</th>\n",
       "      <td>237.804192</td>\n",
       "      <td>-15170.706202</td>\n",
       "      <td>15999.538285</td>\n",
       "      <td>4449.147322</td>\n",
       "    </tr>\n",
       "    <tr>\n",
       "      <th>High School vs College</th>\n",
       "      <td>489.521115</td>\n",
       "      <td>-15346.590508</td>\n",
       "      <td>15310.397378</td>\n",
       "      <td>4720.221727</td>\n",
       "    </tr>\n",
       "    <tr>\n",
       "      <th>Post-Graduate vs College</th>\n",
       "      <td>483.465416</td>\n",
       "      <td>-14834.954442</td>\n",
       "      <td>15755.330659</td>\n",
       "      <td>4737.893396</td>\n",
       "    </tr>\n",
       "    <tr>\n",
       "      <th>Uneducated vs College</th>\n",
       "      <td>303.299251</td>\n",
       "      <td>-15664.424730</td>\n",
       "      <td>15119.889302</td>\n",
       "      <td>4701.585035</td>\n",
       "    </tr>\n",
       "    <tr>\n",
       "      <th>Unknown vs College</th>\n",
       "      <td>256.288343</td>\n",
       "      <td>-15033.169526</td>\n",
       "      <td>15593.935689</td>\n",
       "      <td>4390.361154</td>\n",
       "    </tr>\n",
       "  </tbody>\n",
       "</table>\n",
       "</div>"
      ],
      "text/plain": [
       "                                                mean           min  \\\n",
       "Gender          F vs M                    400.416773 -15499.642309   \n",
       "Education_Level Doctorate vs College      661.178857 -14701.608489   \n",
       "                Graduate vs College       237.804192 -15170.706202   \n",
       "                High School vs College    489.521115 -15346.590508   \n",
       "                Post-Graduate vs College  483.465416 -14834.954442   \n",
       "                Uneducated vs College     303.299251 -15664.424730   \n",
       "                Unknown vs College        256.288343 -15033.169526   \n",
       "\n",
       "                                                   max          std  \n",
       "Gender          F vs M                    15510.584747  4875.212986  \n",
       "Education_Level Doctorate vs College      14319.936226  4822.661456  \n",
       "                Graduate vs College       15999.538285  4449.147322  \n",
       "                High School vs College    15310.397378  4720.221727  \n",
       "                Post-Graduate vs College  15755.330659  4737.893396  \n",
       "                Uneducated vs College     15119.889302  4701.585035  \n",
       "                Unknown vs College        15593.935689  4390.361154  "
      ]
     },
     "execution_count": 19,
     "metadata": {},
     "output_type": "execute_result"
    }
   ],
   "source": [
    "why.causal_effect(test_data, control=['M','College'])"
   ]
  },
  {
   "cell_type": "markdown",
   "id": "3834c6ea",
   "metadata": {},
   "source": [
    "### D. Conclusion\n",
    "\n",
    "Since gender and education level are attribute features, it's not practical to take them as treaments. This section introduces the uasge of causal discovery. Besides, the estimation results from train data and test data are quite similar, which reflects the robustness of the method.  "
   ]
  }
 ],
 "metadata": {
  "kernelspec": {
   "display_name": "Python 3 (ipykernel)",
   "language": "python",
   "name": "python3"
  },
  "language_info": {
   "codemirror_mode": {
    "name": "ipython",
    "version": 3
   },
   "file_extension": ".py",
   "mimetype": "text/x-python",
   "name": "python",
   "nbconvert_exporter": "python",
   "pygments_lexer": "ipython3",
   "version": "3.8.13"
  }
 },
 "nbformat": 4,
 "nbformat_minor": 5
}
