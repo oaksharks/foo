{
 "cells": [
  {
   "cell_type": "code",
   "execution_count": 1,
   "metadata": {},
   "outputs": [],
   "source": [
    "from nn_dag import func\n",
    "from gen import gen\n"
   ]
  },
  {
   "cell_type": "code",
   "execution_count": 2,
   "metadata": {},
   "outputs": [
    {
     "name": "stdout",
     "output_type": "stream",
     "text": [
      "(100, 5)\n"
     ]
    }
   ],
   "source": [
    "X=gen()#输入数据，形式为(数据点的数目，节点数目)（这里是5个节点的100组数据点）\n",
    "print(X.shape)"
   ]
  },
  {
   "cell_type": "code",
   "execution_count": 6,
   "metadata": {},
   "outputs": [
    {
     "name": "stdout",
     "output_type": "stream",
     "text": [
      "[[0.         0.         0.         0.         0.        ]\n",
      " [1.6461781  0.         3.452942   0.         0.        ]\n",
      " [1.7949979  0.         0.         0.         0.        ]\n",
      " [0.         0.48947167 0.         0.         0.47931436]\n",
      " [1.3935319  0.         1.0132673  0.         0.        ]]\n"
     ]
    }
   ],
   "source": [
    "X=gen()\n",
    "W_est = func(X,extra_layer_dim=[3])#extra_layer_dim为中间的全连接层的尺寸结构，默认为空\n",
    "print(W_est)\n"
   ]
  },
  {
   "cell_type": "code",
   "execution_count": 9,
   "metadata": {},
   "outputs": [
    {
     "name": "stdout",
     "output_type": "stream",
     "text": [
      "0.999994877994358 2.3399700022186387e-05\n",
      "1.0089810198865068 0.00898101988650679\n",
      "[0.33889755]\n",
      "[0.58890243]\n"
     ]
    }
   ],
   "source": [
    "import numpy as np\n",
    "from sklearn.linear_model import LinearRegression as LR\n",
    "def dat_gen():\n",
    "    x = np.random.random_sample(20000)\n",
    "    y=0.7*x +0.1*np.random.random_sample(20000)\n",
    "    y=y/(np.max(y)-np.min(y))#对数据的归一化非常重要，直接决定拟合能否奏效\n",
    "    return x,y\n",
    "\n",
    "x,y=dat_gen()\n",
    "print(np.max(x),np.min(x))\n",
    "print(np.max(y),np.min(y))\n",
    "lr=LR()\n",
    "lr.fit(x.reshape(-1, 1),y)\n",
    "print(lr.coef_)#这样算出来的权重更小，可以用来确认因果关系\n",
    "lr=LR()\n",
    "lr.fit(y.reshape(-1, 1),x)\n",
    "print(lr.coef_)"
   ]
  },
  {
   "cell_type": "code",
   "execution_count": null,
   "metadata": {},
   "outputs": [],
   "source": []
  }
 ],
 "metadata": {
  "interpreter": {
   "hash": "d207591e6ff77a7c5fb4cef0dd9fd3703274637a9d0902d2045beb3a65bf572a"
  },
  "kernelspec": {
   "display_name": "Python 3.6.4 64-bit",
   "language": "python",
   "name": "python3"
  },
  "language_info": {
   "codemirror_mode": {
    "name": "ipython",
    "version": 3
   },
   "file_extension": ".py",
   "mimetype": "text/x-python",
   "name": "python",
   "nbconvert_exporter": "python",
   "pygments_lexer": "ipython3",
   "version": "3.6.4"
  },
  "orig_nbformat": 4
 },
 "nbformat": 4,
 "nbformat_minor": 2
}
